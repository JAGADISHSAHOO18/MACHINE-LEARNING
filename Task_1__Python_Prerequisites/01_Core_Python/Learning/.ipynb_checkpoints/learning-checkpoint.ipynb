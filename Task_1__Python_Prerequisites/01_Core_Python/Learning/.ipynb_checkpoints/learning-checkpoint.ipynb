{
 "cells": [
  {
   "cell_type": "code",
   "execution_count": 1,
   "id": "72ff74eb-3a75-4c41-9f11-e77bef5ca005",
   "metadata": {},
   "outputs": [
    {
     "name": "stdout",
     "output_type": "stream",
     "text": [
      "python programming\n",
      "sprite\n"
     ]
    }
   ],
   "source": [
    "print(\"python programming\")\n",
    "\n",
    "def item(n):\n",
    "    print(n)\n",
    "\n",
    "item(\"sprite\")\n",
    "\n",
    "item_one = \"lemon drink\"\n",
    "item_two = \"coca-cola\"\n",
    "item_three = \"ice-cream\""
   ]
  },
  {
   "cell_type": "code",
   "execution_count": 2,
   "id": "b4676882-56fe-4992-ae42-42d519c8af87",
   "metadata": {},
   "outputs": [
    {
     "name": "stdout",
     "output_type": "stream",
     "text": [
      "Senior\n"
     ]
    }
   ],
   "source": [
    "age = 65\n",
    "\n",
    "if age < 13:\n",
    "    print(\"Child\")\n",
    "elif age < 20:\n",
    "    print(\"Teenager\")\n",
    "elif age < 60:\n",
    "    print(\"Adult\")\n",
    "else:\n",
    "    print(\"Senior\")"
   ]
  },
  {
   "cell_type": "code",
   "execution_count": 3,
   "id": "70d2542f-b224-4b75-b858-ed8562768c8f",
   "metadata": {},
   "outputs": [
    {
     "name": "stdout",
     "output_type": "stream",
     "text": [
      "Ticket price for you is $ 10\n"
     ]
    }
   ],
   "source": [
    "age = 26\n",
    "day = \"Wednesday\"\n",
    "\n",
    "price = 12 if age >= 18 else 8\n",
    "\n",
    "if day == \"Wednesday\":\n",
    "    # price = price - 2\n",
    "    price -= 2\n",
    "\n",
    "print(\"Ticket price for you is $\",price)"
   ]
  },
  {
   "cell_type": "code",
   "execution_count": 4,
   "id": "08dc4358-1698-46c3-8993-1db5cb29d1a9",
   "metadata": {},
   "outputs": [
    {
     "name": "stdout",
     "output_type": "stream",
     "text": [
      "Please verify your grade again\n",
      "Grade:  A\n"
     ]
    }
   ],
   "source": [
    "score = 185\n",
    "\n",
    "if score >= 101:\n",
    "    print(\"Please verify your grade again\")\n",
    "    exit()\n",
    "\n",
    "if score >= 90:\n",
    "    grade = \"A\"\n",
    "elif score >= 80:\n",
    "    grade = \"B\"\n",
    "elif score >= 70:\n",
    "    grade = \"C\"\n",
    "elif score >= 60:\n",
    "    grade = \"D\"\n",
    "else:\n",
    "    grade = \"F\"\n",
    "\n",
    "print(\"Grade: \", grade)"
   ]
  },
  {
   "cell_type": "code",
   "execution_count": 5,
   "id": "93521ea2-0aca-4f68-ae03-716670da6582",
   "metadata": {},
   "outputs": [
    {
     "name": "stdout",
     "output_type": "stream",
     "text": [
      "Ripe\n"
     ]
    }
   ],
   "source": [
    "fruit = \"Banana\"\n",
    "color = \"Yellow\"\n",
    "\n",
    "if fruit == \"Banana\":\n",
    "    if color == \"Green\":\n",
    "        print(\"Unripe\")\n",
    "    elif color == \"Yellow\":\n",
    "        print(\"Ripe\")\n",
    "    elif color == \"Brown\":\n",
    "        print(\"OverRipe\")"
   ]
  },
  {
   "cell_type": "code",
   "execution_count": 6,
   "id": "77b6db55-783f-4eb6-be35-e4110e0a5ce7",
   "metadata": {},
   "outputs": [
    {
     "name": "stdout",
     "output_type": "stream",
     "text": [
      "Go for a walk\n"
     ]
    }
   ],
   "source": [
    "weather = \"Sunny\"\n",
    "\n",
    "if weather == \"Sunny\":\n",
    "    activity = \"Go for a walk\"\n",
    "elif weather == \"Rainy\":\n",
    "    activity = \"Read a book\"\n",
    "elif weather == \"Snowy\":\n",
    "    activity = \"Build a snowman\"\n",
    "\n",
    "print(activity)"
   ]
  },
  {
   "cell_type": "code",
   "execution_count": 7,
   "id": "e95e776c-be34-4b28-baf7-60bd49789f08",
   "metadata": {},
   "outputs": [
    {
     "name": "stdout",
     "output_type": "stream",
     "text": [
      "2023 is NOT a leap year\n"
     ]
    }
   ],
   "source": [
    "year = 2023\n",
    "\n",
    "if (year % 400 == 0) or (year % 4 == 0 and year % 100 != 0):\n",
    "    print( year, \" is a leap year\")\n",
    "else:\n",
    "    print(year, \"is NOT a leap year\")"
   ]
  },
  {
   "cell_type": "code",
   "execution_count": 8,
   "id": "4bae7e34-5ae4-40cb-8915-0d9244bd2d16",
   "metadata": {},
   "outputs": [
    {
     "name": "stdout",
     "output_type": "stream",
     "text": [
      "Final count of Positive number is:  6\n"
     ]
    }
   ],
   "source": [
    "numbers = [1, -2, 3, -4, 5, 6, -7, -8, 9, 10]\n",
    "positive_number_count = 0\n",
    "for num in numbers:\n",
    "    if num > 0:\n",
    "        positive_number_count += 1\n",
    "print(\"Final count of Positive number is: \", positive_number_count)"
   ]
  },
  {
   "cell_type": "code",
   "execution_count": 9,
   "id": "f56835f1-5edf-4854-b8fa-f62242861c2e",
   "metadata": {},
   "outputs": [
    {
     "name": "stdout",
     "output_type": "stream",
     "text": [
      "Sum of even number is: ,  5\n"
     ]
    }
   ],
   "source": [
    "n = 10\n",
    "sum_even = 0\n",
    "\n",
    "for i in range(1, n+1):\n",
    "    if i%2 == 0:\n",
    "        sum_even += 1\n",
    "\n",
    "print(\"Sum of even number is: , \", sum_even)"
   ]
  },
  {
   "cell_type": "code",
   "execution_count": 10,
   "id": "43846f52-89e0-4f2d-a6a7-7abc44f417a6",
   "metadata": {},
   "outputs": [
    {
     "name": "stdout",
     "output_type": "stream",
     "text": [
      "3 x 1 = 3\n",
      "3 x 2 = 6\n",
      "3 x 3 = 9\n",
      "3 x 4 = 12\n",
      "3 x 6 = 18\n",
      "3 x 7 = 21\n",
      "3 x 8 = 24\n",
      "3 x 9 = 27\n",
      "3 x 10 = 30\n"
     ]
    }
   ],
   "source": [
    "number = 3\n",
    "\n",
    "for i in range(1, 11):\n",
    "    if i == 5:\n",
    "        continue\n",
    "    print(number, 'x', i, '=', number * i)"
   ]
  },
  {
   "cell_type": "code",
   "execution_count": 11,
   "id": "63ee3755-fbaf-41eb-af01-d756ff4f8e9c",
   "metadata": {},
   "outputs": [
    {
     "name": "stdout",
     "output_type": "stream",
     "text": [
      "t\n",
      "e\n",
      "e\n",
      "t\n",
      "e\n",
      "r\n",
      "Char is:  r\n"
     ]
    }
   ],
   "source": [
    "input_str = \"teeteracdacd\"\n",
    "\n",
    "for char in input_str:\n",
    "    print(char)\n",
    "    if input_str.count(char) == 1:\n",
    "        print(\"Char is: \", char)\n",
    "        break"
   ]
  },
  {
   "cell_type": "code",
   "execution_count": 12,
   "id": "9f2ea093-8d7f-4552-8eed-54d764a3afb5",
   "metadata": {},
   "outputs": [
    {
     "name": "stdout",
     "output_type": "stream",
     "text": [
      "False\n"
     ]
    }
   ],
   "source": [
    "number = 28\n",
    "is_prime = True\n",
    "if number > 1:\n",
    "    for i in range(2, number):\n",
    "        if (number % i) == 0:\n",
    "            is_prime = False\n",
    "            break\n",
    "print(is_prime)"
   ]
  },
  {
   "cell_type": "code",
   "execution_count": 13,
   "id": "ccfe650c-0b16-4766-9d0f-5d628aecea50",
   "metadata": {},
   "outputs": [
    {
     "data": {
      "text/plain": [
       "[0, 1, 4, 9, 16]"
      ]
     },
     "execution_count": 13,
     "metadata": {},
     "output_type": "execute_result"
    }
   ],
   "source": [
    "[x**2 for x in range(5)]"
   ]
  },
  {
   "cell_type": "code",
   "execution_count": 14,
   "id": "f85f7674-7227-4c16-a780-b9108e0bed2c",
   "metadata": {},
   "outputs": [
    {
     "data": {
      "text/plain": [
       "[0, 2, 4, 6, 8]"
      ]
     },
     "execution_count": 14,
     "metadata": {},
     "output_type": "execute_result"
    }
   ],
   "source": [
    "[x for x in range(10) if x % 2 == 0]"
   ]
  },
  {
   "cell_type": "code",
   "execution_count": 15,
   "id": "c64cfa75-73d4-4062-b353-0c82bee74ebe",
   "metadata": {},
   "outputs": [
    {
     "data": {
      "text/plain": [
       "[5, 6, 6]"
      ]
     },
     "execution_count": 15,
     "metadata": {},
     "output_type": "execute_result"
    }
   ],
   "source": [
    "[len(word) for word in ['apple', 'banana', 'cherry']]"
   ]
  },
  {
   "cell_type": "code",
   "execution_count": 16,
   "id": "87c17929-1612-47de-bb1c-690216d76f7f",
   "metadata": {},
   "outputs": [
    {
     "data": {
      "text/plain": [
       "['e', 'o']"
      ]
     },
     "execution_count": 16,
     "metadata": {},
     "output_type": "execute_result"
    }
   ],
   "source": [
    "[char for char in 'hello' if char in 'aeiou']"
   ]
  },
  {
   "cell_type": "code",
   "execution_count": 17,
   "id": "56620f08-4ef9-4fd8-bf3f-78ad123c638d",
   "metadata": {},
   "outputs": [
    {
     "data": {
      "text/plain": [
       "[1, 2, 3, 4]"
      ]
     },
     "execution_count": 17,
     "metadata": {},
     "output_type": "execute_result"
    }
   ],
   "source": [
    "[num for row in [[1,2],[3,4]] for num in row]"
   ]
  },
  {
   "cell_type": "code",
   "execution_count": 18,
   "id": "223e55bb-08ac-49af-8fc8-c80315c3122f",
   "metadata": {},
   "outputs": [
    {
     "data": {
      "text/plain": [
       "{0: 0, 1: 1, 2: 4, 3: 9, 4: 16}"
      ]
     },
     "execution_count": 18,
     "metadata": {},
     "output_type": "execute_result"
    }
   ],
   "source": [
    "{x: x**2 for x in range(5)}"
   ]
  },
  {
   "cell_type": "code",
   "execution_count": 19,
   "id": "edb4ba8b-79fe-47ea-b04a-1cdd560a008b",
   "metadata": {},
   "outputs": [
    {
     "data": {
      "text/plain": [
       "{'a': 'A', 'b': 'B', 'c': 'C'}"
      ]
     },
     "execution_count": 19,
     "metadata": {},
     "output_type": "execute_result"
    }
   ],
   "source": [
    "{char: char.upper() for char in 'abc'}"
   ]
  },
  {
   "cell_type": "code",
   "execution_count": 20,
   "id": "d47c81a7-b93e-44b9-8296-862d6cf9f853",
   "metadata": {},
   "outputs": [
    {
     "name": "stdout",
     "output_type": "stream",
     "text": [
      "16\n"
     ]
    }
   ],
   "source": [
    "def square(number):\n",
    "    return number ** 2\n",
    "result = square(4)\n",
    "print(16)"
   ]
  },
  {
   "cell_type": "code",
   "execution_count": null,
   "id": "83d1e1ca-a300-4d9c-b6e8-3336c37e34dd",
   "metadata": {},
   "outputs": [],
   "source": [
    "def add(numOne, numTwo):\n",
    "    return numOne + numTwo\n",
    "print(add(5, 5))"
   ]
  },
  {
   "cell_type": "code",
   "execution_count": null,
   "id": "14ab19fb-ffdd-4e14-9d31-b70faad74785",
   "metadata": {},
   "outputs": [],
   "source": [
    "def multiply(p1, p2):\n",
    "    return p1 * p2\n",
    "print(multiply(8, 5))\n",
    "print(multiply('a', 5))\n",
    "print(multiply(5, 'a'))"
   ]
  },
  {
   "cell_type": "code",
   "execution_count": null,
   "id": "99f56d47-ee71-456c-864c-71e0435b2735",
   "metadata": {},
   "outputs": [],
   "source": [
    "import math\n",
    "def circle_stats(radius):\n",
    "    area = math.pi * radius ** 2\n",
    "    circumference = 2 * math.pi * radius\n",
    "    return area, circumference\n",
    "a, c = circle_stats(3)\n",
    "print(\"Area: \", a, \"Circumference: \", c)"
   ]
  },
  {
   "cell_type": "code",
   "execution_count": null,
   "id": "8a150ed0-552f-4ef4-a786-cce73f6ada57",
   "metadata": {},
   "outputs": [],
   "source": [
    "def sum_all(*args):\n",
    "    print(args)\n",
    "    for i in args:\n",
    "        print(i * 2)\n",
    "    return sum(args)\n",
    "\n",
    "print(sum_all(1, 2, 3))"
   ]
  },
  {
   "cell_type": "code",
   "execution_count": null,
   "id": "54343d95-9fc1-4d75-8870-21b1f82801c0",
   "metadata": {},
   "outputs": [],
   "source": [
    "def factorial(n):\n",
    "    if n == 0:\n",
    "        return 1\n",
    "    else:\n",
    "        return n * factorial(n - 1)"
   ]
  },
  {
   "cell_type": "code",
   "execution_count": null,
   "id": "2d87de05-4372-4651-a5cc-e9c4b66b8eea",
   "metadata": {},
   "outputs": [],
   "source": [
    "class Car:\n",
    "    total_car = 0\n",
    "\n",
    "    def __init__(self, brand, model):\n",
    "        self.__brand = brand\n",
    "        self.__model = model\n",
    "        Car.total_car += 1\n",
    "\n",
    "    def get_brand(self):\n",
    "        return self.__brand + \" !\"\n",
    "\n",
    "    def full_name(self):\n",
    "        return f\"{self.__brand} {self.__model}\"\n",
    "    \n",
    "    def fuel_type(self):\n",
    "        return \"Petrol or Diesel\"\n",
    "    \n",
    "    @staticmethod\n",
    "    def general_description():\n",
    "        return \"Cars are means of transport\"\n",
    "    \n",
    "    @property\n",
    "    def model(self):\n",
    "        return self.__model\n",
    "    \n",
    "\n",
    "\n",
    "class ElectricCar(Car):\n",
    "    def __init__(self, brand, model, battery_size):\n",
    "        super().__init__(brand, model)\n",
    "        self.battery_size = battery_size\n",
    "\n",
    "    def fuel_type():\n",
    "        return \"Electric charge\"\n",
    "\n",
    "\n",
    "# my_tesla = ElectricCar(\"Tesla\", \"Model S\", \"85kWh\")\n",
    "\n",
    "# print(isinstance(my_tesla, Car))\n",
    "# print(isinstance(my_tesla, ElectricCar))\n",
    "\n",
    "# print(my_tesla.__brand)\n",
    "# print(my_tesla.fuel_type())\n",
    "\n",
    "# my_car = Car(\"Tata\", \"Safari\")\n",
    "# my_car.model = \"City\"\n",
    "# Car(\"Tata\", \"Nexon\")\n",
    "\n",
    "\n",
    "# print(my_car.general_description())\n",
    "# print(my_car.model)\n",
    "\n",
    "\n",
    "# my_car = Car(\"Toyota\", \"Corolla\")\n",
    "# print(my_car.brand)\n",
    "# print(my_car.model)\n",
    "# print(my_car.full_name())\n",
    "\n",
    "# my_new_car = Car(\"Tata\", \"Safari\")\n",
    "# print(my_new_car.model)\n",
    "\n",
    "\n",
    "\n",
    "class Battery:\n",
    "    def battery_info(self):\n",
    "        return \"this is battery\"\n",
    "\n",
    "class Engine:\n",
    "    def engine_info(self):\n",
    "        return \"This is engine\"\n",
    "\n",
    "class ElectricCarTwo(Battery, Engine, Car):\n",
    "    pass\n",
    "\n",
    "my_new_tesla = ElectricCarTwo(\"Tesla\", \"Model S\")\n",
    "print(my_new_tesla.engine_info())\n",
    "print(my_new_tesla.battery_info())"
   ]
  },
  {
   "cell_type": "code",
   "execution_count": null,
   "id": "438404af-144e-4881-837c-adfcf536aa64",
   "metadata": {},
   "outputs": [],
   "source": [
    "[{\"name\": \"python\", \"time\": \"50 mins\"}, {\"name\": \"data-science\", \"time\": \"14 hours\"}]"
   ]
  },
  {
   "cell_type": "code",
   "execution_count": null,
   "id": "6cd351c4-fa2e-470b-a20d-90f0bc3d1171",
   "metadata": {},
   "outputs": [],
   "source": [
    "# file = open('example.txt', 'r')\n",
    "# content = file.read()\n",
    "# file.close()"
   ]
  },
  {
   "cell_type": "code",
   "execution_count": null,
   "id": "914d63dc-7a8c-4793-878f-05e1c09d4f16",
   "metadata": {},
   "outputs": [],
   "source": [
    "# file = open('example.txt', 'r')\n",
    "# lines = file.readlines()\n",
    "# file.close()"
   ]
  },
  {
   "cell_type": "code",
   "execution_count": null,
   "id": "27271854-8e8e-4463-b5cd-83f919ea3593",
   "metadata": {},
   "outputs": [],
   "source": [
    "# file = open('example.txt', 'r')\n",
    "# first_line = file.readline()\n",
    "# file.close()"
   ]
  },
  {
   "cell_type": "code",
   "execution_count": null,
   "id": "2263d516-27eb-4700-b77a-a86810295119",
   "metadata": {},
   "outputs": [],
   "source": [
    "# file = open('output.txt', 'w')\n",
    "# lines = ['Line 1\\n', 'Line 2\\n', 'Line 3\\n']\n",
    "# file.writelines(lines)\n",
    "# file.close()"
   ]
  },
  {
   "cell_type": "code",
   "execution_count": null,
   "id": "36a12501-ea5b-4e3e-8d2f-9cd3402abd6d",
   "metadata": {},
   "outputs": [],
   "source": [
    "# file = open('output.txt', 'a')\n",
    "# file.write('New content appended')\n",
    "# file.close()"
   ]
  },
  {
   "cell_type": "code",
   "execution_count": null,
   "id": "f4ec55bd-15bc-4443-b924-b1b889e1934c",
   "metadata": {},
   "outputs": [],
   "source": [
    "# with open('example.txt', 'r') as file:\n",
    "#     for line in file:\n",
    "#         print(line.strip())"
   ]
  },
  {
   "cell_type": "code",
   "execution_count": null,
   "id": "041a35d6-8d7e-4817-8b75-c3b52eadc87f",
   "metadata": {},
   "outputs": [],
   "source": [
    "# try:\n",
    "#     with open('nonexistent.txt', 'r') as file:\n",
    "#         content = file.read()\n",
    "# except FileNotFoundError:\n",
    "#     print(\"File not found\")"
   ]
  },
  {
   "cell_type": "code",
   "execution_count": null,
   "id": "b1301f4a-a3ae-41f9-b525-dc17e2c27907",
   "metadata": {},
   "outputs": [],
   "source": [
    "# with open('example.txt', 'r') as input_file, open('copy.txt', 'w') as output_file:\n",
    "#     content = input_file.read()\n",
    "#     output_file.write(content)"
   ]
  }
 ],
 "metadata": {
  "kernelspec": {
   "display_name": "Python 3 (ipykernel)",
   "language": "python",
   "name": "python3"
  },
  "language_info": {
   "codemirror_mode": {
    "name": "ipython",
    "version": 3
   },
   "file_extension": ".py",
   "mimetype": "text/x-python",
   "name": "python",
   "nbconvert_exporter": "python",
   "pygments_lexer": "ipython3",
   "version": "3.13.5"
  }
 },
 "nbformat": 4,
 "nbformat_minor": 5
}
