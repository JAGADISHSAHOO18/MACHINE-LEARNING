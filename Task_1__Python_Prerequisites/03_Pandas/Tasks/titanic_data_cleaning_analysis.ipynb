{
 "cells": [
  {
   "cell_type": "code",
   "execution_count": 1,
   "id": "9b26c916-37a3-481c-918a-7b414f3e34c6",
   "metadata": {},
   "outputs": [],
   "source": [
    "import pandas as pd\n",
    "a=pd.read_csv(r\"C:\\Users\\jagad\\Desktop\\MACHINE_LEARNING\\Titanic-Dataset.csv\")"
   ]
  },
  {
   "cell_type": "code",
   "execution_count": 2,
   "id": "4990cc71-9270-42cf-8bf1-796c07096791",
   "metadata": {},
   "outputs": [
    {
     "name": "stdout",
     "output_type": "stream",
     "text": [
      "PassengerId      0\n",
      "Survived         0\n",
      "Pclass           0\n",
      "Name             0\n",
      "Sex              0\n",
      "Age            177\n",
      "SibSp            0\n",
      "Parch            0\n",
      "Ticket           0\n",
      "Fare             0\n",
      "Cabin          687\n",
      "Embarked         2\n",
      "dtype: int64\n"
     ]
    }
   ],
   "source": [
    "b=a.isnull().sum()\n",
    "print(b)"
   ]
  },
  {
   "cell_type": "code",
   "execution_count": 3,
   "id": "1e0c967c-42d8-408a-85a6-69fa5205c941",
   "metadata": {},
   "outputs": [],
   "source": [
    "a=a.drop_duplicates()"
   ]
  },
  {
   "cell_type": "code",
   "execution_count": 4,
   "id": "d1079970-5a32-4b23-9d2f-e3520626269e",
   "metadata": {},
   "outputs": [],
   "source": [
    "a['Age']=a['Age'].fillna(a['Age'].median())\n",
    "a['Embarked'] = a['Embarked'].fillna(a['Embarked'].mode()[0])  \n",
    "a['Cabin'] = a['Cabin'].fillna(\"Unknown\")"
   ]
  },
  {
   "cell_type": "code",
   "execution_count": 5,
   "id": "f6ca1b57-733d-436e-9dae-d443d1997bb3",
   "metadata": {},
   "outputs": [],
   "source": [
    "class_survival = a.groupby('Pclass')['Survived'].mean()\n",
    "gender_survival = a.groupby('Sex')['Survived'].mean()"
   ]
  },
  {
   "cell_type": "code",
   "execution_count": 6,
   "id": "dfd7ad91-f18b-46b2-a7db-ae025bb3480f",
   "metadata": {},
   "outputs": [
    {
     "name": "stdout",
     "output_type": "stream",
     "text": [
      "Pclass\n",
      "1    0.629630\n",
      "2    0.472826\n",
      "3    0.242363\n",
      "Name: Survived, dtype: float64\n"
     ]
    }
   ],
   "source": [
    "print(class_survival)"
   ]
  },
  {
   "cell_type": "code",
   "execution_count": 7,
   "id": "31b249d7-144c-4b24-9a6d-07b4d80054f9",
   "metadata": {},
   "outputs": [
    {
     "name": "stdout",
     "output_type": "stream",
     "text": [
      "Sex\n",
      "female    0.742038\n",
      "male      0.188908\n",
      "Name: Survived, dtype: float64\n"
     ]
    }
   ],
   "source": [
    "print(gender_survival)"
   ]
  },
  {
   "cell_type": "code",
   "execution_count": 8,
   "id": "305cd061-9fd0-4fc2-a254-e7e6f37d3bda",
   "metadata": {},
   "outputs": [],
   "source": [
    "with open(\"titanic_summary.csv\", \"w\") as f:\n",
    "    f.write(\" Null Values After Cleaning \\n\")\n",
    "    a.isnull().sum().to_csv(f)\n",
    "    f.write(\"\\n\\nSurvival by Class\\n\")\n",
    "    class_survival.to_csv(f)\n",
    "    f.write(\"\\n\\nSurvival by Gender\\n\")\n",
    "    gender_survival.to_csv(f)"
   ]
  },
  {
   "cell_type": "code",
   "execution_count": 9,
   "id": "7d9f6801-ad17-4bfa-a65b-048a869a8ee8",
   "metadata": {},
   "outputs": [
    {
     "name": "stdout",
     "output_type": "stream",
     "text": [
      "Summary exported to titanic_summary.csv\n"
     ]
    }
   ],
   "source": [
    "print(\"Summary exported to titanic_summary.csv\")"
   ]
  },
  {
   "cell_type": "code",
   "execution_count": null,
   "id": "844585d2-f28d-4be7-8b5c-91ac8f6da830",
   "metadata": {},
   "outputs": [],
   "source": []
  }
 ],
 "metadata": {
  "kernelspec": {
   "display_name": "Python 3 (ipykernel)",
   "language": "python",
   "name": "python3"
  },
  "language_info": {
   "codemirror_mode": {
    "name": "ipython",
    "version": 3
   },
   "file_extension": ".py",
   "mimetype": "text/x-python",
   "name": "python",
   "nbconvert_exporter": "python",
   "pygments_lexer": "ipython3",
   "version": "3.13.5"
  }
 },
 "nbformat": 4,
 "nbformat_minor": 5
}
