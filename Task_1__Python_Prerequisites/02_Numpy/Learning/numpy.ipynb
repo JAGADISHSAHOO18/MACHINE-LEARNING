{
 "cells": [
  {
   "cell_type": "code",
   "execution_count": 1,
   "id": "9a046e80-1c97-4dfd-aaeb-d34534e6907a",
   "metadata": {},
   "outputs": [],
   "source": [
    "import numpy as np"
   ]
  },
  {
   "cell_type": "code",
   "execution_count": 2,
   "id": "48866f50-4c23-4445-84ae-8251b9960220",
   "metadata": {},
   "outputs": [
    {
     "name": "stdout",
     "output_type": "stream",
     "text": [
      "Basic 1D array: [ 5 10 15 20 25]\n"
     ]
    }
   ],
   "source": [
    "basic_array = np.array([5, 10, 15, 20, 25])\n",
    "print(f\"Basic 1D array: {basic_array}\")"
   ]
  },
  {
   "cell_type": "code",
   "execution_count": 3,
   "id": "b1744276-ba08-4c26-876d-c339d635fa32",
   "metadata": {},
   "outputs": [
    {
     "name": "stdout",
     "output_type": "stream",
     "text": [
      "2D matrix:\n",
      "[[1 3 5]\n",
      " [2 4 6]]\n"
     ]
    }
   ],
   "source": [
    "matrix_2d = np.array([[1, 3, 5], [2, 4, 6]])\n",
    "print(f\"2D matrix:\\n{matrix_2d}\")"
   ]
  },
  {
   "cell_type": "code",
   "execution_count": 4,
   "id": "c1a6a5ae-c0f3-477c-842f-4ba35047b778",
   "metadata": {},
   "outputs": [
    {
     "name": "stdout",
     "output_type": "stream",
     "text": [
      "Zeros matrix (2x3):\n",
      "[[0. 0. 0.]\n",
      " [0. 0. 0.]]\n"
     ]
    }
   ],
   "source": [
    "zeros_matrix = np.zeros((2, 3))\n",
    "print(f\"Zeros matrix (2x3):\\n{zeros_matrix}\")"
   ]
  },
  {
   "cell_type": "code",
   "execution_count": 5,
   "id": "94c88227-9d8b-4b4e-9f3a-d27d3c2a534b",
   "metadata": {},
   "outputs": [
    {
     "name": "stdout",
     "output_type": "stream",
     "text": [
      "Ones matrix (3x2):\n",
      "[[1. 1.]\n",
      " [1. 1.]\n",
      " [1. 1.]]\n"
     ]
    }
   ],
   "source": [
    "ones_matrix = np.ones((3, 2))\n",
    "print(f\"Ones matrix (3x2):\\n{ones_matrix}\")"
   ]
  },
  {
   "cell_type": "code",
   "execution_count": 6,
   "id": "075b9819-7a3a-4386-bd7d-ee8583b7527d",
   "metadata": {},
   "outputs": [
    {
     "name": "stdout",
     "output_type": "stream",
     "text": [
      "Identity matrix (4x4):\n",
      "[[1. 0. 0. 0.]\n",
      " [0. 1. 0. 0.]\n",
      " [0. 0. 1. 0.]\n",
      " [0. 0. 0. 1.]]\n"
     ]
    }
   ],
   "source": [
    "identity_matrix = np.eye(4)\n",
    "print(f\"Identity matrix (4x4):\\n{identity_matrix}\")"
   ]
  },
  {
   "cell_type": "code",
   "execution_count": 7,
   "id": "b8ec2ce7-2796-49c7-af6a-4f929d90c2b4",
   "metadata": {},
   "outputs": [
    {
     "name": "stdout",
     "output_type": "stream",
     "text": [
      "Range array (2-15 step 3): [ 2  5  8 11 14]\n"
     ]
    }
   ],
   "source": [
    "range_array = np.arange(2, 15, 3)\n",
    "print(f\"Range array (2-15 step 3): {range_array}\")"
   ]
  },
  {
   "cell_type": "code",
   "execution_count": 8,
   "id": "561d12ae-1bc2-4152-b199-5d31a50fd715",
   "metadata": {},
   "outputs": [
    {
     "name": "stdout",
     "output_type": "stream",
     "text": [
      "Linear spaced (0-10, 6 points): [ 0.  2.  4.  6.  8. 10.]\n"
     ]
    }
   ],
   "source": [
    "linear_spaced = np.linspace(0, 10, 6)\n",
    "print(f\"Linear spaced (0-10, 6 points): {linear_spaced}\")"
   ]
  },
  {
   "cell_type": "code",
   "execution_count": 9,
   "id": "453b2c61-4f45-406d-8779-fcb43eaab20b",
   "metadata": {},
   "outputs": [],
   "source": [
    "sample_data = np.array([[10, 20, 30, 40], \n",
    "                       [50, 60, 70, 80], \n",
    "                       [90, 100, 110, 120]])"
   ]
  },
  {
   "cell_type": "code",
   "execution_count": 10,
   "id": "35590c0f-55c9-4b2b-ab4b-7bf2f2a84232",
   "metadata": {},
   "outputs": [
    {
     "name": "stdout",
     "output_type": "stream",
     "text": [
      "Sample data matrix:\n",
      "[[ 10  20  30  40]\n",
      " [ 50  60  70  80]\n",
      " [ 90 100 110 120]]\n"
     ]
    }
   ],
   "source": [
    "print(f\"Sample data matrix:\\n{sample_data}\")"
   ]
  },
  {
   "cell_type": "code",
   "execution_count": 11,
   "id": "b8f73baa-c601-4335-96d0-deda40c13a8c",
   "metadata": {},
   "outputs": [
    {
     "name": "stdout",
     "output_type": "stream",
     "text": [
      "Element at row 1, column 2: 70\n"
     ]
    }
   ],
   "source": [
    "print(f\"Element at row 1, column 2: {sample_data[1, 2]}\")"
   ]
  },
  {
   "cell_type": "code",
   "execution_count": 12,
   "id": "485951c3-b9ee-4c03-a9ca-266d4dadf351",
   "metadata": {},
   "outputs": [
    {
     "name": "stdout",
     "output_type": "stream",
     "text": [
      "First row: [10 20 30 40]\n"
     ]
    }
   ],
   "source": [
    "print(f\"First row: {sample_data[0]}\")"
   ]
  },
  {
   "cell_type": "code",
   "execution_count": 13,
   "id": "63ecc207-a5bc-4bdc-bf53-116a4c207d59",
   "metadata": {},
   "outputs": [
    {
     "name": "stdout",
     "output_type": "stream",
     "text": [
      "Last column: [ 40  80 120]\n"
     ]
    }
   ],
   "source": [
    "print(f\"Last column: {sample_data[:, -1]}\")"
   ]
  },
  {
   "cell_type": "code",
   "execution_count": 14,
   "id": "e819ff76-5f14-4280-9384-c0ca117ea2cf",
   "metadata": {},
   "outputs": [
    {
     "name": "stdout",
     "output_type": "stream",
     "text": [
      "Middle section:\n",
      "[[ 60  70]\n",
      " [100 110]]\n"
     ]
    }
   ],
   "source": [
    "print(f\"Middle section:\\n{sample_data[1:, 1:3]}\")"
   ]
  },
  {
   "cell_type": "code",
   "execution_count": 15,
   "id": "96c218e7-a589-4a70-80db-cf57be60e7ee",
   "metadata": {},
   "outputs": [
    {
     "name": "stdout",
     "output_type": "stream",
     "text": [
      "Original array: [ 1  2  3  4  5  6  7  8  9 10 11 12 13 14 15 16]\n"
     ]
    }
   ],
   "source": [
    "original_array = np.arange(1, 17)\n",
    "print(f\"Original array: {original_array}\")"
   ]
  },
  {
   "cell_type": "code",
   "execution_count": 16,
   "id": "1ea48ca5-ebeb-404e-8e93-73b2c7f09390",
   "metadata": {},
   "outputs": [
    {
     "name": "stdout",
     "output_type": "stream",
     "text": [
      "Reshaped to 4x4:\n",
      "[[ 1  2  3  4]\n",
      " [ 5  6  7  8]\n",
      " [ 9 10 11 12]\n",
      " [13 14 15 16]]\n"
     ]
    }
   ],
   "source": [
    "reshaped_4x4 = original_array.reshape(4, 4)\n",
    "print(f\"Reshaped to 4x4:\\n{reshaped_4x4}\")"
   ]
  },
  {
   "cell_type": "code",
   "execution_count": 17,
   "id": "95e9b665-4ba4-47ba-bbe8-465e8137fce3",
   "metadata": {},
   "outputs": [
    {
     "name": "stdout",
     "output_type": "stream",
     "text": [
      "Flattened again: [ 1  2  3  4  5  6  7  8  9 10 11 12 13 14 15 16]\n"
     ]
    }
   ],
   "source": [
    "flattened_back = reshaped_4x4.flatten()\n",
    "print(f\"Flattened again: {flattened_back}\")"
   ]
  },
  {
   "cell_type": "code",
   "execution_count": 18,
   "id": "57ff03cd-3cd4-49fb-8197-644c2b0cfd53",
   "metadata": {},
   "outputs": [
    {
     "name": "stdout",
     "output_type": "stream",
     "text": [
      "Transposed matrix:\n",
      "[[ 1  5  9 13]\n",
      " [ 2  6 10 14]\n",
      " [ 3  7 11 15]\n",
      " [ 4  8 12 16]]\n"
     ]
    }
   ],
   "source": [
    "transposed_matrix = reshaped_4x4.T\n",
    "print(f\"Transposed matrix:\\n{transposed_matrix}\")"
   ]
  },
  {
   "cell_type": "code",
   "execution_count": 19,
   "id": "0cb33dc3-5a71-4559-a2fa-a580b4bed539",
   "metadata": {},
   "outputs": [],
   "source": [
    "vector_a = np.array([2, 4, 6, 8])\n",
    "vector_b = np.array([1, 3, 5, 7])"
   ]
  },
  {
   "cell_type": "code",
   "execution_count": 20,
   "id": "157ad919-a163-4232-a43c-990c4074e75a",
   "metadata": {},
   "outputs": [
    {
     "name": "stdout",
     "output_type": "stream",
     "text": [
      "Vector A: [2 4 6 8]\n"
     ]
    }
   ],
   "source": [
    "print(f\"Vector A: {vector_a}\")"
   ]
  },
  {
   "cell_type": "code",
   "execution_count": 21,
   "id": "8ec4e8e3-d820-49ec-9d9c-843eab2df769",
   "metadata": {},
   "outputs": [
    {
     "name": "stdout",
     "output_type": "stream",
     "text": [
      "Vector B: [1 3 5 7]\n"
     ]
    }
   ],
   "source": [
    "print(f\"Vector B: {vector_b}\")"
   ]
  },
  {
   "cell_type": "code",
   "execution_count": 22,
   "id": "937291e2-3d84-45e5-aa69-e2aee9953718",
   "metadata": {},
   "outputs": [
    {
     "name": "stdout",
     "output_type": "stream",
     "text": [
      "Element-wise addition: [ 3  7 11 15]\n"
     ]
    }
   ],
   "source": [
    "print(f\"Element-wise addition: {vector_a + vector_b}\")"
   ]
  },
  {
   "cell_type": "code",
   "execution_count": 23,
   "id": "f1e797a3-5742-45f0-a4a3-9f96a8d9b4a1",
   "metadata": {},
   "outputs": [
    {
     "name": "stdout",
     "output_type": "stream",
     "text": [
      "Element-wise multiplication: [ 2 12 30 56]\n"
     ]
    }
   ],
   "source": [
    "print(f\"Element-wise multiplication: {vector_a * vector_b}\")"
   ]
  },
  {
   "cell_type": "code",
   "execution_count": 24,
   "id": "bf546d83-1b55-41b1-8667-bf63e17d8eaf",
   "metadata": {},
   "outputs": [
    {
     "name": "stdout",
     "output_type": "stream",
     "text": [
      "Mean of vector A: 5.00\n"
     ]
    }
   ],
   "source": [
    "print(f\"Mean of vector A: {np.mean(vector_a):.2f}\")"
   ]
  },
  {
   "cell_type": "code",
   "execution_count": 25,
   "id": "029c5340-eb4b-49a4-9568-7a8f2420ab80",
   "metadata": {},
   "outputs": [
    {
     "name": "stdout",
     "output_type": "stream",
     "text": [
      "Standard deviation of vector A: 2.24\n"
     ]
    }
   ],
   "source": [
    "print(f\"Standard deviation of vector A: {np.std(vector_a):.2f}\")"
   ]
  },
  {
   "cell_type": "code",
   "execution_count": 26,
   "id": "d8dc0245-ed9c-4fa8-b884-c31209b692a7",
   "metadata": {},
   "outputs": [
    {
     "name": "stdout",
     "output_type": "stream",
     "text": [
      "Sum of vector A: 20\n"
     ]
    }
   ],
   "source": [
    "print(f\"Sum of vector A: {np.sum(vector_a)}\")"
   ]
  },
  {
   "cell_type": "code",
   "execution_count": 28,
   "id": "79598b0b-e35a-4211-8502-b7583a934044",
   "metadata": {},
   "outputs": [],
   "source": [
    "matrix_x = np.array([[2, 3], [5, 7]])\n",
    "matrix_y = np.array([[1, 4], [2, 1]])"
   ]
  },
  {
   "cell_type": "code",
   "execution_count": 29,
   "id": "2a46d7a5-df58-49e7-b634-bfc31d5e9ad3",
   "metadata": {},
   "outputs": [
    {
     "name": "stdout",
     "output_type": "stream",
     "text": [
      "Matrix X:\n",
      "[[2 3]\n",
      " [5 7]]\n",
      "Matrix Y:\n",
      "[[1 4]\n",
      " [2 1]]\n"
     ]
    }
   ],
   "source": [
    "print(f\"Matrix X:\\n{matrix_x}\")\n",
    "print(f\"Matrix Y:\\n{matrix_y}\")"
   ]
  },
  {
   "cell_type": "code",
   "execution_count": 30,
   "id": "5e885426-a286-4402-a1f4-fec674ce0ac1",
   "metadata": {},
   "outputs": [
    {
     "name": "stdout",
     "output_type": "stream",
     "text": [
      "Dot product:\n",
      "[[ 8 11]\n",
      " [19 27]]\n"
     ]
    }
   ],
   "source": [
    "dot_product = np.dot(matrix_x, matrix_y)\n",
    "print(f\"Dot product:\\n{dot_product}\")"
   ]
  },
  {
   "cell_type": "code",
   "execution_count": 31,
   "id": "c8065880-154a-4ed0-81eb-2b87616db58f",
   "metadata": {},
   "outputs": [
    {
     "name": "stdout",
     "output_type": "stream",
     "text": [
      "Matrix multiplication:\n",
      "[[ 8 11]\n",
      " [19 27]]\n"
     ]
    }
   ],
   "source": [
    "matrix_product = np.matmul(matrix_x, matrix_y)\n",
    "print(f\"Matrix multiplication:\\n{matrix_product}\")"
   ]
  },
  {
   "cell_type": "code",
   "execution_count": 32,
   "id": "6f38e038-355b-49f4-b71f-18405a8cd15b",
   "metadata": {},
   "outputs": [
    {
     "name": "stdout",
     "output_type": "stream",
     "text": [
      "Uniform distribution (2x3):\n",
      "[[0.05706678 0.74293103 0.62604831]\n",
      " [0.31484848 0.42750651 0.08117445]]\n"
     ]
    }
   ],
   "source": [
    "uniform_random = np.random.rand(2, 3)\n",
    "print(f\"Uniform distribution (2x3):\\n{uniform_random}\")"
   ]
  },
  {
   "cell_type": "code",
   "execution_count": 33,
   "id": "3e2acb8d-73ca-4350-b7af-1e21810d86b0",
   "metadata": {},
   "outputs": [
    {
     "name": "stdout",
     "output_type": "stream",
     "text": [
      "Normal distribution (3x2):\n",
      "[[-1.51432824 -0.24270008]\n",
      " [-0.52334082  0.22663422]\n",
      " [-0.70393173  0.24133787]]\n"
     ]
    }
   ],
   "source": [
    "normal_random = np.random.randn(3, 2)\n",
    "print(f\"Normal distribution (3x2):\\n{normal_random}\")"
   ]
  },
  {
   "cell_type": "code",
   "execution_count": 34,
   "id": "9c3f1dd6-c49d-4268-90a2-8ef42bbd8068",
   "metadata": {},
   "outputs": [
    {
     "name": "stdout",
     "output_type": "stream",
     "text": [
      "Random integers (10-50): [23 30 44 35 21 18 38 31]\n"
     ]
    }
   ],
   "source": [
    "random_integers = np.random.randint(10, 50, 8)\n",
    "print(f\"Random integers (10-50): {random_integers}\")"
   ]
  },
  {
   "cell_type": "code",
   "execution_count": 49,
   "id": "dff84cfd-a1e0-4163-a4e0-d52cb9e7635b",
   "metadata": {},
   "outputs": [
    {
     "name": "stdout",
     "output_type": "stream",
     "text": [
      "Random choices: ['C' 'C' 'C' 'C' 'D' 'C' 'D' 'A' 'B' 'D' 'B' 'A']\n"
     ]
    }
   ],
   "source": [
    "random_choices = np.random.choice(['A', 'B', 'C', 'D'], size=12)\n",
    "print(f\"Random choices: {random_choices}\")"
   ]
  },
  {
   "cell_type": "code",
   "execution_count": null,
   "id": "001844f0-27bc-4649-a630-48c20b85dbd6",
   "metadata": {},
   "outputs": [],
   "source": []
  }
 ],
 "metadata": {
  "kernelspec": {
   "display_name": "Python 3 (ipykernel)",
   "language": "python",
   "name": "python3"
  },
  "language_info": {
   "codemirror_mode": {
    "name": "ipython",
    "version": 3
   },
   "file_extension": ".py",
   "mimetype": "text/x-python",
   "name": "python",
   "nbconvert_exporter": "python",
   "pygments_lexer": "ipython3",
   "version": "3.13.5"
  }
 },
 "nbformat": 4,
 "nbformat_minor": 5
}
